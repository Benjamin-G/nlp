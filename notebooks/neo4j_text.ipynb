{
 "cells": [
  {
   "cell_type": "markdown",
   "source": [
    "# Chapter 11\n",
    "\n",
    "For linking to Neo4j\n",
    "\n",
    "https://medium.com/@technologydata25/connect-neo4j-to-jupyter-notebook-c178f716d6d5"
   ],
   "metadata": {
    "collapsed": false
   }
  },
  {
   "cell_type": "code",
   "execution_count": null,
   "outputs": [],
   "source": [
    "import os\n",
    "\n",
    "from py2neo import Graph\n",
    "\n",
    "# Connect to database\n",
    "url = \"bolt://localhost:7687\"\n",
    "username = os.getenv(\"NEO4J_USER\")\n",
    "password = os.getenv(\"NEO4J_PASSWORD\")\n",
    "# neo4j_version = os.getenv(\"NEO4J_VERSION\", \"4\")\n",
    "database = 'text-example'\n",
    "\n",
    "graph = Graph(url, auth=(username, password), name=database)"
   ],
   "metadata": {
    "collapsed": false
   }
  },
  {
   "cell_type": "markdown",
   "source": [
    "### Create Data"
   ],
   "metadata": {
    "collapsed": false
   }
  },
  {
   "cell_type": "code",
   "execution_count": null,
   "outputs": [],
   "source": [
    "graph.delete_all()\n",
    "\n",
    "add_text = \"\"\"\n",
    "WITH split(\"You will not be able to send new mail until you upgrade your email.\",\" \") as words\n",
    "UNWIND range(0, size(words)-2) as idx\n",
    "MERGE (w1:Word {value:words[idx]})\n",
    "MERGE (w2:Word {value:words[idx+1]})\n",
    "CREATE (w1)-[:NEXT]->(w2);\n",
    "\"\"\"\n",
    "\n",
    "graph.run(add_text)\n",
    "\n",
    "add_constraint = \"CREATE CONSTRAINT FOR (w:Word) REQUIRE w.value IS UNIQUE;\"\n",
    "graph.run(add_constraint)"
   ],
   "metadata": {
    "collapsed": false
   }
  },
  {
   "cell_type": "code",
   "execution_count": null,
   "outputs": [],
   "source": [
    "match_words = \"MATCH p=(n)-[r:NEXT]->(m) RETURN n,m\"\n",
    "res = graph.run(match_words).to_data_frame()\n",
    "res"
   ],
   "metadata": {
    "collapsed": false
   }
  }
 ],
 "metadata": {
  "kernelspec": {
   "display_name": "Python 3",
   "language": "python",
   "name": "python3"
  },
  "language_info": {
   "codemirror_mode": {
    "name": "ipython",
    "version": 2
   },
   "file_extension": ".py",
   "mimetype": "text/x-python",
   "name": "python",
   "nbconvert_exporter": "python",
   "pygments_lexer": "ipython2",
   "version": "2.7.6"
  }
 },
 "nbformat": 4,
 "nbformat_minor": 0
}
