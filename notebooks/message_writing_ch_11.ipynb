{
 "cells": [
  {
   "cell_type": "markdown",
   "source": [
    "Suppose that you would like to implement a tool that supports message writing, suggesting the next word while you are typing. Moreover, suppose that you would like the tool to learn from you or from a specific set of documents. Such a tool could be useful not only for providing message-writing assistance, but also for supporting spell checking, extracting common phrases, summarizing, and so on."
   ],
   "metadata": {
    "collapsed": false
   }
  },
  {
   "cell_type": "markdown",
   "source": [
    "# Load Data"
   ],
   "metadata": {
    "collapsed": false
   }
  },
  {
   "cell_type": "code",
   "execution_count": 1,
   "outputs": [],
   "source": [
    "import os\n",
    "\n",
    "from py2neo import Graph\n",
    "\n",
    "# Connect to database\n",
    "url = \"bolt://localhost:7687\"\n",
    "username = os.getenv(\"NEO4J_USER\")\n",
    "password = os.getenv(\"NEO4J_PASSWORD\")\n",
    "database = \"masc\"\n",
    "\n",
    "graph = Graph(url, auth=(username, password), name=database)"
   ],
   "metadata": {
    "collapsed": false,
    "ExecuteTime": {
     "end_time": "2023-05-15T21:45:12.125324700Z",
     "start_time": "2023-05-15T21:45:11.863704100Z"
    }
   }
  },
  {
   "cell_type": "code",
   "execution_count": null,
   "outputs": [],
   "source": [
    "\n",
    "add_constraint = \"CREATE CONSTRAINT FOR (w:Word) REQUIRE w.value IS UNIQUE;\"\n",
    "graph.run(add_constraint)"
   ],
   "metadata": {
    "collapsed": false
   }
  },
  {
   "cell_type": "code",
   "execution_count": 3,
   "outputs": [
    {
     "ename": "ClientError",
     "evalue": "[Statement.SyntaxError] Invalid input ':': expected\r\n  \"ALTER\"\r\n  \"CALL\"\r\n  \"CREATE\"\r\n  \"DEALLOCATE\"\r\n  \"DELETE\"\r\n  \"DENY\"\r\n  \"DETACH\"\r\n  \"DROP\"\r\n  \"DRYRUN\"\r\n  \"ENABLE\"\r\n  \"FOREACH\"\r\n  \"GRANT\"\r\n  \"LOAD\"\r\n  \"MATCH\"\r\n  \"MERGE\"\r\n  \"OPTIONAL\"\r\n  \"REALLOCATE\"\r\n  \"REMOVE\"\r\n  \"RENAME\"\r\n  \"RETURN\"\r\n  \"REVOKE\"\r\n  \"SET\"\r\n  \"SHOW\"\r\n  \"START\"\r\n  \"STOP\"\r\n  \"TERMINATE\"\r\n  \"UNWIND\"\r\n  \"USE\"\r\n  \"USING\"\r\n  \"WITH\" (line 1, column 1 (offset: 0))\r\n\":auto LOAD CSV FROM \"file:///masc_sentences.tsv\" AS line FIELDTERMINATOR '\t'\"\r\n ^",
     "output_type": "error",
     "traceback": [
      "\u001B[1;31m---------------------------------------------------------------------------\u001B[0m",
      "\u001B[1;31mClientError\u001B[0m                               Traceback (most recent call last)",
      "Cell \u001B[1;32mIn[3], line 16\u001B[0m\n\u001B[0;32m      1\u001B[0m load_data \u001B[38;5;241m=\u001B[39m \\\n\u001B[0;32m      2\u001B[0m \u001B[38;5;124;03m\"\"\":auto LOAD CSV FROM \"file:///masc_sentences.tsv\" AS line FIELDTERMINATOR '\\t'\u001B[39;00m\n\u001B[0;32m      3\u001B[0m \u001B[38;5;124;03mCALL {\u001B[39;00m\n\u001B[1;32m   (...)\u001B[0m\n\u001B[0;32m     13\u001B[0m \u001B[38;5;124;03m} IN TRANSACTIONS OF 500 ROWS\u001B[39;00m\n\u001B[0;32m     14\u001B[0m \u001B[38;5;124;03m\"\"\"\u001B[39;00m\n\u001B[0;32m     15\u001B[0m \u001B[38;5;66;03m# Had to add masc_sentences.tsv to the DB server\u001B[39;00m\n\u001B[1;32m---> 16\u001B[0m \u001B[43mgraph\u001B[49m\u001B[38;5;241;43m.\u001B[39;49m\u001B[43mrun\u001B[49m\u001B[43m(\u001B[49m\u001B[43mload_data\u001B[49m\u001B[43m)\u001B[49m\n",
      "File \u001B[1;32mC:\\Python310\\lib\\site-packages\\py2neo\\database.py:405\u001B[0m, in \u001B[0;36mGraph.run\u001B[1;34m(self, cypher, parameters, **kwparameters)\u001B[0m\n\u001B[0;32m    395\u001B[0m \u001B[38;5;28;01mdef\u001B[39;00m \u001B[38;5;21mrun\u001B[39m(\u001B[38;5;28mself\u001B[39m, cypher, parameters\u001B[38;5;241m=\u001B[39m\u001B[38;5;28;01mNone\u001B[39;00m, \u001B[38;5;241m*\u001B[39m\u001B[38;5;241m*\u001B[39mkwparameters):\n\u001B[0;32m    396\u001B[0m \u001B[38;5;250m    \u001B[39m\u001B[38;5;124;03m\"\"\" Run a single read/write query within an auto-commit\u001B[39;00m\n\u001B[0;32m    397\u001B[0m \u001B[38;5;124;03m    :class:`~py2neo.Transaction`.\u001B[39;00m\n\u001B[0;32m    398\u001B[0m \n\u001B[1;32m   (...)\u001B[0m\n\u001B[0;32m    403\u001B[0m \u001B[38;5;124;03m    :return:\u001B[39;00m\n\u001B[0;32m    404\u001B[0m \u001B[38;5;124;03m    \"\"\"\u001B[39;00m\n\u001B[1;32m--> 405\u001B[0m     \u001B[38;5;28;01mreturn\u001B[39;00m \u001B[38;5;28mself\u001B[39m\u001B[38;5;241m.\u001B[39mauto()\u001B[38;5;241m.\u001B[39mrun(cypher, parameters, \u001B[38;5;241m*\u001B[39m\u001B[38;5;241m*\u001B[39mkwparameters)\n",
      "File \u001B[1;32mC:\\Python310\\lib\\site-packages\\py2neo\\database.py:992\u001B[0m, in \u001B[0;36mTransaction.run\u001B[1;34m(self, cypher, parameters, **kwparameters)\u001B[0m\n\u001B[0;32m    988\u001B[0m     \u001B[38;5;28;01melse\u001B[39;00m:\n\u001B[0;32m    989\u001B[0m         result \u001B[38;5;241m=\u001B[39m \u001B[38;5;28mself\u001B[39m\u001B[38;5;241m.\u001B[39m_connector\u001B[38;5;241m.\u001B[39mauto_run(cypher, parameters,\n\u001B[0;32m    990\u001B[0m                                           graph_name\u001B[38;5;241m=\u001B[39m\u001B[38;5;28mself\u001B[39m\u001B[38;5;241m.\u001B[39mgraph\u001B[38;5;241m.\u001B[39mname,\n\u001B[0;32m    991\u001B[0m                                           readonly\u001B[38;5;241m=\u001B[39m\u001B[38;5;28mself\u001B[39m\u001B[38;5;241m.\u001B[39mreadonly)\n\u001B[1;32m--> 992\u001B[0m     \u001B[38;5;28;43mself\u001B[39;49m\u001B[38;5;241;43m.\u001B[39;49m\u001B[43m_connector\u001B[49m\u001B[38;5;241;43m.\u001B[39;49m\u001B[43mpull\u001B[49m\u001B[43m(\u001B[49m\u001B[43mresult\u001B[49m\u001B[43m,\u001B[49m\u001B[43m \u001B[49m\u001B[38;5;241;43m-\u001B[39;49m\u001B[38;5;241;43m1\u001B[39;49m\u001B[43m)\u001B[49m\n\u001B[0;32m    993\u001B[0m     \u001B[38;5;28;01mreturn\u001B[39;00m Cursor(result, hydrant)\n\u001B[0;32m    994\u001B[0m \u001B[38;5;28;01mfinally\u001B[39;00m:\n",
      "File \u001B[1;32mC:\\Python310\\lib\\site-packages\\py2neo\\client\\__init__.py:1434\u001B[0m, in \u001B[0;36mConnector.pull\u001B[1;34m(self, result, n)\u001B[0m\n\u001B[0;32m   1432\u001B[0m cx \u001B[38;5;241m=\u001B[39m \u001B[38;5;28mself\u001B[39m\u001B[38;5;241m.\u001B[39m_reacquire(result\u001B[38;5;241m.\u001B[39mtransaction)\n\u001B[0;32m   1433\u001B[0m \u001B[38;5;28;01mtry\u001B[39;00m:\n\u001B[1;32m-> 1434\u001B[0m     \u001B[43mcx\u001B[49m\u001B[38;5;241;43m.\u001B[39;49m\u001B[43mpull\u001B[49m\u001B[43m(\u001B[49m\u001B[43mresult\u001B[49m\u001B[43m,\u001B[49m\u001B[43m \u001B[49m\u001B[43mn\u001B[49m\u001B[38;5;241;43m=\u001B[39;49m\u001B[43mn\u001B[49m\u001B[43m)\u001B[49m\n\u001B[0;32m   1435\u001B[0m \u001B[38;5;28;01mexcept\u001B[39;00m (ConnectionUnavailable, ConnectionBroken):\n\u001B[0;32m   1436\u001B[0m     \u001B[38;5;28mself\u001B[39m\u001B[38;5;241m.\u001B[39mprune(cx\u001B[38;5;241m.\u001B[39mprofile)\n",
      "File \u001B[1;32mC:\\Python310\\lib\\site-packages\\py2neo\\client\\bolt.py:1001\u001B[0m, in \u001B[0;36mBolt4x0.pull\u001B[1;34m(self, result, n, capacity)\u001B[0m\n\u001B[0;32m    998\u001B[0m     raise_from(ConnectionBroken(\u001B[38;5;124m\"\u001B[39m\u001B[38;5;124mTransaction broken by disconnection \u001B[39m\u001B[38;5;124m\"\u001B[39m\n\u001B[0;32m    999\u001B[0m                                 \u001B[38;5;124m\"\u001B[39m\u001B[38;5;124mduring pull\u001B[39m\u001B[38;5;124m\"\u001B[39m), error)\n\u001B[0;32m   1000\u001B[0m \u001B[38;5;28;01melse\u001B[39;00m:\n\u001B[1;32m-> 1001\u001B[0m     \u001B[38;5;28;43mself\u001B[39;49m\u001B[38;5;241;43m.\u001B[39;49m\u001B[43m_audit\u001B[49m\u001B[43m(\u001B[49m\u001B[38;5;28;43mself\u001B[39;49m\u001B[38;5;241;43m.\u001B[39;49m\u001B[43m_transaction\u001B[49m\u001B[43m)\u001B[49m\n\u001B[0;32m   1002\u001B[0m     \u001B[38;5;28;01mreturn\u001B[39;00m response\n",
      "File \u001B[1;32mC:\\Python310\\lib\\site-packages\\py2neo\\client\\bolt.py:810\u001B[0m, in \u001B[0;36mBolt1._audit\u001B[1;34m(self, task)\u001B[0m\n\u001B[0;32m    808\u001B[0m     \u001B[38;5;28;01mreturn\u001B[39;00m\n\u001B[0;32m    809\u001B[0m \u001B[38;5;28;01mtry\u001B[39;00m:\n\u001B[1;32m--> 810\u001B[0m     \u001B[43mtask\u001B[49m\u001B[38;5;241;43m.\u001B[39;49m\u001B[43maudit\u001B[49m\u001B[43m(\u001B[49m\u001B[43m)\u001B[49m\n\u001B[0;32m    811\u001B[0m \u001B[38;5;28;01mexcept\u001B[39;00m Neo4jError:\n\u001B[0;32m    812\u001B[0m     \u001B[38;5;28mself\u001B[39m\u001B[38;5;241m.\u001B[39mreset(force\u001B[38;5;241m=\u001B[39m\u001B[38;5;28;01mTrue\u001B[39;00m)\n",
      "File \u001B[1;32mC:\\Python310\\lib\\site-packages\\py2neo\\client\\bolt.py:1140\u001B[0m, in \u001B[0;36mItemizedTask.audit\u001B[1;34m(self)\u001B[0m\n\u001B[0;32m   1138\u001B[0m \u001B[38;5;28;01mdef\u001B[39;00m \u001B[38;5;21maudit\u001B[39m(\u001B[38;5;28mself\u001B[39m):\n\u001B[0;32m   1139\u001B[0m     \u001B[38;5;28;01mfor\u001B[39;00m item \u001B[38;5;129;01min\u001B[39;00m \u001B[38;5;28mself\u001B[39m\u001B[38;5;241m.\u001B[39m_items:\n\u001B[1;32m-> 1140\u001B[0m         \u001B[43mitem\u001B[49m\u001B[38;5;241;43m.\u001B[39;49m\u001B[43maudit\u001B[49m\u001B[43m(\u001B[49m\u001B[43m)\u001B[49m\n",
      "File \u001B[1;32mC:\\Python310\\lib\\site-packages\\py2neo\\client\\bolt.py:1140\u001B[0m, in \u001B[0;36mItemizedTask.audit\u001B[1;34m(self)\u001B[0m\n\u001B[0;32m   1138\u001B[0m \u001B[38;5;28;01mdef\u001B[39;00m \u001B[38;5;21maudit\u001B[39m(\u001B[38;5;28mself\u001B[39m):\n\u001B[0;32m   1139\u001B[0m     \u001B[38;5;28;01mfor\u001B[39;00m item \u001B[38;5;129;01min\u001B[39;00m \u001B[38;5;28mself\u001B[39m\u001B[38;5;241m.\u001B[39m_items:\n\u001B[1;32m-> 1140\u001B[0m         \u001B[43mitem\u001B[49m\u001B[38;5;241;43m.\u001B[39;49m\u001B[43maudit\u001B[49m\u001B[43m(\u001B[49m\u001B[43m)\u001B[49m\n",
      "File \u001B[1;32mC:\\Python310\\lib\\site-packages\\py2neo\\client\\bolt.py:1303\u001B[0m, in \u001B[0;36mBoltResponse.audit\u001B[1;34m(self)\u001B[0m\n\u001B[0;32m   1301\u001B[0m \u001B[38;5;28;01mif\u001B[39;00m \u001B[38;5;28mself\u001B[39m\u001B[38;5;241m.\u001B[39m_failure:\n\u001B[0;32m   1302\u001B[0m     \u001B[38;5;28mself\u001B[39m\u001B[38;5;241m.\u001B[39mset_ignored()\n\u001B[1;32m-> 1303\u001B[0m     \u001B[38;5;28;01mraise\u001B[39;00m \u001B[38;5;28mself\u001B[39m\u001B[38;5;241m.\u001B[39m_failure\n",
      "\u001B[1;31mClientError\u001B[0m: [Statement.SyntaxError] Invalid input ':': expected\r\n  \"ALTER\"\r\n  \"CALL\"\r\n  \"CREATE\"\r\n  \"DEALLOCATE\"\r\n  \"DELETE\"\r\n  \"DENY\"\r\n  \"DETACH\"\r\n  \"DROP\"\r\n  \"DRYRUN\"\r\n  \"ENABLE\"\r\n  \"FOREACH\"\r\n  \"GRANT\"\r\n  \"LOAD\"\r\n  \"MATCH\"\r\n  \"MERGE\"\r\n  \"OPTIONAL\"\r\n  \"REALLOCATE\"\r\n  \"REMOVE\"\r\n  \"RENAME\"\r\n  \"RETURN\"\r\n  \"REVOKE\"\r\n  \"SET\"\r\n  \"SHOW\"\r\n  \"START\"\r\n  \"STOP\"\r\n  \"TERMINATE\"\r\n  \"UNWIND\"\r\n  \"USE\"\r\n  \"USING\"\r\n  \"WITH\" (line 1, column 1 (offset: 0))\r\n\":auto LOAD CSV FROM \"file:///masc_sentences.tsv\" AS line FIELDTERMINATOR '\t'\"\r\n ^"
     ]
    }
   ],
   "source": [
    "# doesn't work here use desktop\n",
    "load_data = \"\"\"\n",
    "    :auto LOAD CSV FROM \"file:///masc_sentences.tsv\" AS line FIELDTERMINATOR '\\t'\n",
    "    CALL {\n",
    "        WITH line\n",
    "        WITH line[6] as sentence\n",
    "        WITH split(sentence, \" \") as words\n",
    "        FOREACH ( idx IN range(0,size(words)-2) |\n",
    "        MERGE (w1:Word {value:words[idx]})\n",
    "        MERGE (w2:Word {value:words[idx+1]})\n",
    "        MERGE (w1)-[r:NEXT]->(w2)\n",
    "          ON CREATE SET r.weight = 1\n",
    "          ON MATCH SET r.weight = r.weight + 1)\n",
    "    } IN TRANSACTIONS OF 500 ROWS\n",
    "    \"\"\"\n",
    "# Had to add masc_sentences.tsv to the DB server\n",
    "graph.run(load_data)"
   ],
   "metadata": {
    "collapsed": false,
    "ExecuteTime": {
     "end_time": "2023-05-15T21:45:42.528538700Z",
     "start_time": "2023-05-15T21:45:42.365360900Z"
    }
   }
  },
  {
   "cell_type": "code",
   "execution_count": null,
   "outputs": [],
   "source": [],
   "metadata": {
    "collapsed": false
   }
  }
 ],
 "metadata": {
  "kernelspec": {
   "display_name": "Python 3",
   "language": "python",
   "name": "python3"
  },
  "language_info": {
   "codemirror_mode": {
    "name": "ipython",
    "version": 2
   },
   "file_extension": ".py",
   "mimetype": "text/x-python",
   "name": "python",
   "nbconvert_exporter": "python",
   "pygments_lexer": "ipython2",
   "version": "2.7.6"
  }
 },
 "nbformat": 4,
 "nbformat_minor": 0
}
