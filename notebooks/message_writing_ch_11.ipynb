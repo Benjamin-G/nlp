{
 "cells": [
  {
   "cell_type": "markdown",
   "source": [
    "Suppose that you would like to implement a tool that supports message writing, suggesting the next word while you are typing. Moreover, suppose that you would like the tool to learn from you or from a specific set of documents. Such a tool could be useful not only for providing message-writing assistance, but also for supporting spell checking, extracting common phrases, summarizing, and so on."
   ],
   "metadata": {
    "collapsed": false
   }
  },
  {
   "cell_type": "markdown",
   "source": [
    "# Load Data"
   ],
   "metadata": {
    "collapsed": false
   }
  },
  {
   "cell_type": "code",
   "execution_count": 1,
   "outputs": [],
   "source": [
    "import os\n",
    "\n",
    "from py2neo import Graph\n",
    "\n",
    "# Connect to database\n",
    "url = \"bolt://localhost:7687\"\n",
    "username = os.getenv(\"NEO4J_USER\")\n",
    "password = os.getenv(\"NEO4J_PASSWORD\")\n",
    "database = \"masc\"\n",
    "\n",
    "graph = Graph(url, auth=(username, password), name=database)"
   ],
   "metadata": {
    "collapsed": false,
    "ExecuteTime": {
     "end_time": "2023-05-16T20:36:47.627814700Z",
     "start_time": "2023-05-16T20:36:47.323379900Z"
    }
   }
  },
  {
   "cell_type": "code",
   "execution_count": 2,
   "outputs": [
    {
     "ename": "ClientError",
     "evalue": "[Schema.EquivalentSchemaRuleAlreadyExists] An equivalent constraint already exists, 'Constraint( id=4, name='constraint_3424e6da', type='UNIQUENESS', schema=(:Word {value}), ownedIndex=3 )'.",
     "output_type": "error",
     "traceback": [
      "\u001B[1;31m---------------------------------------------------------------------------\u001B[0m",
      "\u001B[1;31mClientError\u001B[0m                               Traceback (most recent call last)",
      "Cell \u001B[1;32mIn[2], line 2\u001B[0m\n\u001B[0;32m      1\u001B[0m add_constraint \u001B[38;5;241m=\u001B[39m \u001B[38;5;124m\"\u001B[39m\u001B[38;5;124mCREATE CONSTRAINT FOR (w:Word) REQUIRE w.value IS UNIQUE;\u001B[39m\u001B[38;5;124m\"\u001B[39m\n\u001B[1;32m----> 2\u001B[0m \u001B[43mgraph\u001B[49m\u001B[38;5;241;43m.\u001B[39;49m\u001B[43mrun\u001B[49m\u001B[43m(\u001B[49m\u001B[43madd_constraint\u001B[49m\u001B[43m)\u001B[49m\n",
      "File \u001B[1;32mC:\\Python310\\lib\\site-packages\\py2neo\\database.py:405\u001B[0m, in \u001B[0;36mGraph.run\u001B[1;34m(self, cypher, parameters, **kwparameters)\u001B[0m\n\u001B[0;32m    395\u001B[0m \u001B[38;5;28;01mdef\u001B[39;00m \u001B[38;5;21mrun\u001B[39m(\u001B[38;5;28mself\u001B[39m, cypher, parameters\u001B[38;5;241m=\u001B[39m\u001B[38;5;28;01mNone\u001B[39;00m, \u001B[38;5;241m*\u001B[39m\u001B[38;5;241m*\u001B[39mkwparameters):\n\u001B[0;32m    396\u001B[0m \u001B[38;5;250m    \u001B[39m\u001B[38;5;124;03m\"\"\" Run a single read/write query within an auto-commit\u001B[39;00m\n\u001B[0;32m    397\u001B[0m \u001B[38;5;124;03m    :class:`~py2neo.Transaction`.\u001B[39;00m\n\u001B[0;32m    398\u001B[0m \n\u001B[1;32m   (...)\u001B[0m\n\u001B[0;32m    403\u001B[0m \u001B[38;5;124;03m    :return:\u001B[39;00m\n\u001B[0;32m    404\u001B[0m \u001B[38;5;124;03m    \"\"\"\u001B[39;00m\n\u001B[1;32m--> 405\u001B[0m     \u001B[38;5;28;01mreturn\u001B[39;00m \u001B[38;5;28mself\u001B[39m\u001B[38;5;241m.\u001B[39mauto()\u001B[38;5;241m.\u001B[39mrun(cypher, parameters, \u001B[38;5;241m*\u001B[39m\u001B[38;5;241m*\u001B[39mkwparameters)\n",
      "File \u001B[1;32mC:\\Python310\\lib\\site-packages\\py2neo\\database.py:992\u001B[0m, in \u001B[0;36mTransaction.run\u001B[1;34m(self, cypher, parameters, **kwparameters)\u001B[0m\n\u001B[0;32m    988\u001B[0m     \u001B[38;5;28;01melse\u001B[39;00m:\n\u001B[0;32m    989\u001B[0m         result \u001B[38;5;241m=\u001B[39m \u001B[38;5;28mself\u001B[39m\u001B[38;5;241m.\u001B[39m_connector\u001B[38;5;241m.\u001B[39mauto_run(cypher, parameters,\n\u001B[0;32m    990\u001B[0m                                           graph_name\u001B[38;5;241m=\u001B[39m\u001B[38;5;28mself\u001B[39m\u001B[38;5;241m.\u001B[39mgraph\u001B[38;5;241m.\u001B[39mname,\n\u001B[0;32m    991\u001B[0m                                           readonly\u001B[38;5;241m=\u001B[39m\u001B[38;5;28mself\u001B[39m\u001B[38;5;241m.\u001B[39mreadonly)\n\u001B[1;32m--> 992\u001B[0m     \u001B[38;5;28;43mself\u001B[39;49m\u001B[38;5;241;43m.\u001B[39;49m\u001B[43m_connector\u001B[49m\u001B[38;5;241;43m.\u001B[39;49m\u001B[43mpull\u001B[49m\u001B[43m(\u001B[49m\u001B[43mresult\u001B[49m\u001B[43m,\u001B[49m\u001B[43m \u001B[49m\u001B[38;5;241;43m-\u001B[39;49m\u001B[38;5;241;43m1\u001B[39;49m\u001B[43m)\u001B[49m\n\u001B[0;32m    993\u001B[0m     \u001B[38;5;28;01mreturn\u001B[39;00m Cursor(result, hydrant)\n\u001B[0;32m    994\u001B[0m \u001B[38;5;28;01mfinally\u001B[39;00m:\n",
      "File \u001B[1;32mC:\\Python310\\lib\\site-packages\\py2neo\\client\\__init__.py:1434\u001B[0m, in \u001B[0;36mConnector.pull\u001B[1;34m(self, result, n)\u001B[0m\n\u001B[0;32m   1432\u001B[0m cx \u001B[38;5;241m=\u001B[39m \u001B[38;5;28mself\u001B[39m\u001B[38;5;241m.\u001B[39m_reacquire(result\u001B[38;5;241m.\u001B[39mtransaction)\n\u001B[0;32m   1433\u001B[0m \u001B[38;5;28;01mtry\u001B[39;00m:\n\u001B[1;32m-> 1434\u001B[0m     \u001B[43mcx\u001B[49m\u001B[38;5;241;43m.\u001B[39;49m\u001B[43mpull\u001B[49m\u001B[43m(\u001B[49m\u001B[43mresult\u001B[49m\u001B[43m,\u001B[49m\u001B[43m \u001B[49m\u001B[43mn\u001B[49m\u001B[38;5;241;43m=\u001B[39;49m\u001B[43mn\u001B[49m\u001B[43m)\u001B[49m\n\u001B[0;32m   1435\u001B[0m \u001B[38;5;28;01mexcept\u001B[39;00m (ConnectionUnavailable, ConnectionBroken):\n\u001B[0;32m   1436\u001B[0m     \u001B[38;5;28mself\u001B[39m\u001B[38;5;241m.\u001B[39mprune(cx\u001B[38;5;241m.\u001B[39mprofile)\n",
      "File \u001B[1;32mC:\\Python310\\lib\\site-packages\\py2neo\\client\\bolt.py:1001\u001B[0m, in \u001B[0;36mBolt4x0.pull\u001B[1;34m(self, result, n, capacity)\u001B[0m\n\u001B[0;32m    998\u001B[0m     raise_from(ConnectionBroken(\u001B[38;5;124m\"\u001B[39m\u001B[38;5;124mTransaction broken by disconnection \u001B[39m\u001B[38;5;124m\"\u001B[39m\n\u001B[0;32m    999\u001B[0m                                 \u001B[38;5;124m\"\u001B[39m\u001B[38;5;124mduring pull\u001B[39m\u001B[38;5;124m\"\u001B[39m), error)\n\u001B[0;32m   1000\u001B[0m \u001B[38;5;28;01melse\u001B[39;00m:\n\u001B[1;32m-> 1001\u001B[0m     \u001B[38;5;28;43mself\u001B[39;49m\u001B[38;5;241;43m.\u001B[39;49m\u001B[43m_audit\u001B[49m\u001B[43m(\u001B[49m\u001B[38;5;28;43mself\u001B[39;49m\u001B[38;5;241;43m.\u001B[39;49m\u001B[43m_transaction\u001B[49m\u001B[43m)\u001B[49m\n\u001B[0;32m   1002\u001B[0m     \u001B[38;5;28;01mreturn\u001B[39;00m response\n",
      "File \u001B[1;32mC:\\Python310\\lib\\site-packages\\py2neo\\client\\bolt.py:810\u001B[0m, in \u001B[0;36mBolt1._audit\u001B[1;34m(self, task)\u001B[0m\n\u001B[0;32m    808\u001B[0m     \u001B[38;5;28;01mreturn\u001B[39;00m\n\u001B[0;32m    809\u001B[0m \u001B[38;5;28;01mtry\u001B[39;00m:\n\u001B[1;32m--> 810\u001B[0m     \u001B[43mtask\u001B[49m\u001B[38;5;241;43m.\u001B[39;49m\u001B[43maudit\u001B[49m\u001B[43m(\u001B[49m\u001B[43m)\u001B[49m\n\u001B[0;32m    811\u001B[0m \u001B[38;5;28;01mexcept\u001B[39;00m Neo4jError:\n\u001B[0;32m    812\u001B[0m     \u001B[38;5;28mself\u001B[39m\u001B[38;5;241m.\u001B[39mreset(force\u001B[38;5;241m=\u001B[39m\u001B[38;5;28;01mTrue\u001B[39;00m)\n",
      "File \u001B[1;32mC:\\Python310\\lib\\site-packages\\py2neo\\client\\bolt.py:1140\u001B[0m, in \u001B[0;36mItemizedTask.audit\u001B[1;34m(self)\u001B[0m\n\u001B[0;32m   1138\u001B[0m \u001B[38;5;28;01mdef\u001B[39;00m \u001B[38;5;21maudit\u001B[39m(\u001B[38;5;28mself\u001B[39m):\n\u001B[0;32m   1139\u001B[0m     \u001B[38;5;28;01mfor\u001B[39;00m item \u001B[38;5;129;01min\u001B[39;00m \u001B[38;5;28mself\u001B[39m\u001B[38;5;241m.\u001B[39m_items:\n\u001B[1;32m-> 1140\u001B[0m         \u001B[43mitem\u001B[49m\u001B[38;5;241;43m.\u001B[39;49m\u001B[43maudit\u001B[49m\u001B[43m(\u001B[49m\u001B[43m)\u001B[49m\n",
      "File \u001B[1;32mC:\\Python310\\lib\\site-packages\\py2neo\\client\\bolt.py:1140\u001B[0m, in \u001B[0;36mItemizedTask.audit\u001B[1;34m(self)\u001B[0m\n\u001B[0;32m   1138\u001B[0m \u001B[38;5;28;01mdef\u001B[39;00m \u001B[38;5;21maudit\u001B[39m(\u001B[38;5;28mself\u001B[39m):\n\u001B[0;32m   1139\u001B[0m     \u001B[38;5;28;01mfor\u001B[39;00m item \u001B[38;5;129;01min\u001B[39;00m \u001B[38;5;28mself\u001B[39m\u001B[38;5;241m.\u001B[39m_items:\n\u001B[1;32m-> 1140\u001B[0m         \u001B[43mitem\u001B[49m\u001B[38;5;241;43m.\u001B[39;49m\u001B[43maudit\u001B[49m\u001B[43m(\u001B[49m\u001B[43m)\u001B[49m\n",
      "File \u001B[1;32mC:\\Python310\\lib\\site-packages\\py2neo\\client\\bolt.py:1303\u001B[0m, in \u001B[0;36mBoltResponse.audit\u001B[1;34m(self)\u001B[0m\n\u001B[0;32m   1301\u001B[0m \u001B[38;5;28;01mif\u001B[39;00m \u001B[38;5;28mself\u001B[39m\u001B[38;5;241m.\u001B[39m_failure:\n\u001B[0;32m   1302\u001B[0m     \u001B[38;5;28mself\u001B[39m\u001B[38;5;241m.\u001B[39mset_ignored()\n\u001B[1;32m-> 1303\u001B[0m     \u001B[38;5;28;01mraise\u001B[39;00m \u001B[38;5;28mself\u001B[39m\u001B[38;5;241m.\u001B[39m_failure\n",
      "\u001B[1;31mClientError\u001B[0m: [Schema.EquivalentSchemaRuleAlreadyExists] An equivalent constraint already exists, 'Constraint( id=4, name='constraint_3424e6da', type='UNIQUENESS', schema=(:Word {value}), ownedIndex=3 )'."
     ]
    }
   ],
   "source": [
    "add_constraint = \"CREATE CONSTRAINT FOR (w:Word) REQUIRE w.value IS UNIQUE;\"\n",
    "graph.run(add_constraint)"
   ],
   "metadata": {
    "collapsed": false,
    "ExecuteTime": {
     "end_time": "2023-05-16T20:36:50.482669600Z",
     "start_time": "2023-05-16T20:36:49.163806600Z"
    }
   }
  },
  {
   "cell_type": "code",
   "execution_count": 7,
   "outputs": [
    {
     "data": {
      "text/plain": " batches |  total | timeTaken | committedOperations | failedOperations | failedBatches | retries | errorMessages | batch                                                                                                                                                                                                                                            | operations                                                | wasTerminated | failedParams | updateStatistics                                                                                                                                    \n---------|--------|-----------|---------------------|------------------|---------------|---------|---------------|--------------------------------------------------------------------------------------------------------------------------------------------------------------------------------------------------------------------------------------------------|-----------------------------------------------------------|---------------|--------------|-----------------------------------------------------------------------------------------------------------------------------------------------------\n     230 | 115000 |       141 |              114000 |                0 |             2 |       0 | {}            | {total: 230, committed: 228, failed: 2, errors: {`org.neo4j.graphdb.TransientTransactionFailureException: Unable to complete transaction.: The memory pool limit was exceeded. The corresponding setting can be found in the error message`: 2}} | {total: 115000, committed: 114000, failed: 0, errors: {}} | false         | {}           | {nodesDeleted: 115000, labelsAdded: 0, relationshipsCreated: 0, nodesCreated: 0, propertiesSet: 0, relationshipsDeleted: 3459865, labelsRemoved: 0} ",
      "text/html": "<table><tr><th>batches</th><th>total</th><th>timeTaken</th><th>committedOperations</th><th>failedOperations</th><th>failedBatches</th><th>retries</th><th>errorMessages</th><th>batch</th><th>operations</th><th>wasTerminated</th><th>failedParams</th><th>updateStatistics</th></tr><tr><td style=\"text-align:right\">230</td><td style=\"text-align:right\">115000</td><td style=\"text-align:right\">141</td><td style=\"text-align:right\">114000</td><td style=\"text-align:right\">0</td><td style=\"text-align:right\">2</td><td style=\"text-align:right\">0</td><td style=\"text-align:left\">{}</td><td style=\"text-align:left\">{total: 230, committed: 228, failed: 2, errors: {`org.neo4j.graphdb.TransientTransactionFailureException: Unable to complete transaction.: The memory pool limit was exceeded. The corresponding setting can be found in the error message`: 2}}</td><td style=\"text-align:left\">{total: 115000, committed: 114000, failed: 0, errors: {}}</td><td style=\"text-align:left\">false</td><td style=\"text-align:left\">{}</td><td style=\"text-align:left\">{nodesDeleted: 115000, labelsAdded: 0, relationshipsCreated: 0, nodesCreated: 0, propertiesSet: 0, relationshipsDeleted: 3459865, labelsRemoved: 0}</td></tr></table>"
     },
     "execution_count": 7,
     "metadata": {},
     "output_type": "execute_result"
    }
   ],
   "source": [
    "# doesn't work here use desktop\n",
    "load_data_1 = \"\"\"\n",
    "LOAD CSV FROM \"file:///masc_sentences.tsv\" AS line FIELDTERMINATOR '\\t'\n",
    "CALL {\n",
    "    WITH line\n",
    "    WITH line[6] as sentence\n",
    "    WITH split(sentence, \" \") as words\n",
    "    FOREACH ( idx IN range(0,size(words)-2) |\n",
    "    MERGE (w1:Word {value:apoc.text.clean(words[idx])})\n",
    "    MERGE (w2:Word {value:apoc.text.clean(words[idx+1])})\n",
    "    MERGE (w1)-[r:NEXT]->(w2)\n",
    "      ON CREATE SET r.weight = 1\n",
    "      ON MATCH SET r.weight = r.weight + 1)\n",
    "} IN TRANSACTIONS OF 500 ROWS\n",
    "\"\"\"\n",
    "\n",
    "# New importing query that uses the sentence identifier\n",
    "load_data = \"\"\"\n",
    "LOAD CSV FROM \"file:///masc_sentences.tsv\" AS line FIELDTERMINATOR '\\t'\n",
    "CALL {\n",
    "    WITH line\n",
    "    WITH line[6] as sentence, line[2] as sentenceId\n",
    "    WITH split(sentence,\" \") as words, sentenceId\n",
    "    FOREACH ( idx IN range(0,size(words)-2) |\n",
    "    MERGE (w1:Word {value:apoc.text.clean(words[idx])})\n",
    "    MERGE (w2:Word {value:apoc.text.clean(words[idx+1])})\n",
    "    CREATE (w1)-[r:NEXT {sentence: sentenceId}]->(w2))\n",
    "} IN TRANSACTIONS OF 500 ROWS\n",
    "\"\"\"\n",
    "delete = \"\"\"\n",
    "CALL apoc.periodic.iterate(\n",
    "\"MATCH (p:Word) RETURN p\",\n",
    "\"DETACH DELETE p\", {batchSize:500})\n",
    "\"\"\"\n",
    "# Had to add masc_sentences.tsv to the DB server\n",
    "# without cleaning\n",
    "# Added 170037 labels, created 170037 nodes, set 2553105 properties, created 929137 relationships, completed after 261495 ms.\n",
    "# with cleaning\n",
    "# Added 97209 labels, created 97209 nodes, set 2480277 properties, created 806397 relationships, completed after 229257 ms.\n",
    "graph.run(load_data)"
   ],
   "metadata": {
    "collapsed": false,
    "ExecuteTime": {
     "end_time": "2023-05-16T20:48:56.432534500Z",
     "start_time": "2023-05-16T20:46:34.620562100Z"
    }
   }
  },
  {
   "cell_type": "code",
   "execution_count": 6,
   "outputs": [
    {
     "ename": "TransientError",
     "evalue": "[General.MemoryPoolOutOfMemoryError] The allocation of an extra 24.0 MiB would use more than the limit 716.8 MiB. Currently using 702.0 MiB. dbms.memory.transaction.total.max threshold reached",
     "output_type": "error",
     "traceback": [
      "\u001B[1;31m---------------------------------------------------------------------------\u001B[0m",
      "\u001B[1;31mTransientError\u001B[0m                            Traceback (most recent call last)",
      "Cell \u001B[1;32mIn[6], line 1\u001B[0m\n\u001B[1;32m----> 1\u001B[0m \u001B[43mgraph\u001B[49m\u001B[38;5;241;43m.\u001B[39;49m\u001B[43mdelete_all\u001B[49m\u001B[43m(\u001B[49m\u001B[43m)\u001B[49m\n",
      "File \u001B[1;32mC:\\Python310\\lib\\site-packages\\py2neo\\database.py:575\u001B[0m, in \u001B[0;36mGraph.delete_all\u001B[1;34m(self)\u001B[0m\n\u001B[0;32m    568\u001B[0m \u001B[38;5;28;01mdef\u001B[39;00m \u001B[38;5;21mdelete_all\u001B[39m(\u001B[38;5;28mself\u001B[39m):\n\u001B[0;32m    569\u001B[0m \u001B[38;5;250m    \u001B[39m\u001B[38;5;124;03m\"\"\" Delete all nodes and relationships from this :class:`.Graph`.\u001B[39;00m\n\u001B[0;32m    570\u001B[0m \n\u001B[0;32m    571\u001B[0m \u001B[38;5;124;03m    .. warning::\u001B[39;00m\n\u001B[0;32m    572\u001B[0m \u001B[38;5;124;03m        This method will permanently remove **all** nodes and relationships\u001B[39;00m\n\u001B[0;32m    573\u001B[0m \u001B[38;5;124;03m        from the graph and cannot be undone.\u001B[39;00m\n\u001B[0;32m    574\u001B[0m \u001B[38;5;124;03m    \"\"\"\u001B[39;00m\n\u001B[1;32m--> 575\u001B[0m     \u001B[38;5;28;43mself\u001B[39;49m\u001B[38;5;241;43m.\u001B[39;49m\u001B[43mrun\u001B[49m\u001B[43m(\u001B[49m\u001B[38;5;124;43m\"\u001B[39;49m\u001B[38;5;124;43mMATCH (a) DETACH DELETE a\u001B[39;49m\u001B[38;5;124;43m\"\u001B[39;49m\u001B[43m)\u001B[49m\n",
      "File \u001B[1;32mC:\\Python310\\lib\\site-packages\\py2neo\\database.py:405\u001B[0m, in \u001B[0;36mGraph.run\u001B[1;34m(self, cypher, parameters, **kwparameters)\u001B[0m\n\u001B[0;32m    395\u001B[0m \u001B[38;5;28;01mdef\u001B[39;00m \u001B[38;5;21mrun\u001B[39m(\u001B[38;5;28mself\u001B[39m, cypher, parameters\u001B[38;5;241m=\u001B[39m\u001B[38;5;28;01mNone\u001B[39;00m, \u001B[38;5;241m*\u001B[39m\u001B[38;5;241m*\u001B[39mkwparameters):\n\u001B[0;32m    396\u001B[0m \u001B[38;5;250m    \u001B[39m\u001B[38;5;124;03m\"\"\" Run a single read/write query within an auto-commit\u001B[39;00m\n\u001B[0;32m    397\u001B[0m \u001B[38;5;124;03m    :class:`~py2neo.Transaction`.\u001B[39;00m\n\u001B[0;32m    398\u001B[0m \n\u001B[1;32m   (...)\u001B[0m\n\u001B[0;32m    403\u001B[0m \u001B[38;5;124;03m    :return:\u001B[39;00m\n\u001B[0;32m    404\u001B[0m \u001B[38;5;124;03m    \"\"\"\u001B[39;00m\n\u001B[1;32m--> 405\u001B[0m     \u001B[38;5;28;01mreturn\u001B[39;00m \u001B[38;5;28mself\u001B[39m\u001B[38;5;241m.\u001B[39mauto()\u001B[38;5;241m.\u001B[39mrun(cypher, parameters, \u001B[38;5;241m*\u001B[39m\u001B[38;5;241m*\u001B[39mkwparameters)\n",
      "File \u001B[1;32mC:\\Python310\\lib\\site-packages\\py2neo\\database.py:992\u001B[0m, in \u001B[0;36mTransaction.run\u001B[1;34m(self, cypher, parameters, **kwparameters)\u001B[0m\n\u001B[0;32m    988\u001B[0m     \u001B[38;5;28;01melse\u001B[39;00m:\n\u001B[0;32m    989\u001B[0m         result \u001B[38;5;241m=\u001B[39m \u001B[38;5;28mself\u001B[39m\u001B[38;5;241m.\u001B[39m_connector\u001B[38;5;241m.\u001B[39mauto_run(cypher, parameters,\n\u001B[0;32m    990\u001B[0m                                           graph_name\u001B[38;5;241m=\u001B[39m\u001B[38;5;28mself\u001B[39m\u001B[38;5;241m.\u001B[39mgraph\u001B[38;5;241m.\u001B[39mname,\n\u001B[0;32m    991\u001B[0m                                           readonly\u001B[38;5;241m=\u001B[39m\u001B[38;5;28mself\u001B[39m\u001B[38;5;241m.\u001B[39mreadonly)\n\u001B[1;32m--> 992\u001B[0m     \u001B[38;5;28;43mself\u001B[39;49m\u001B[38;5;241;43m.\u001B[39;49m\u001B[43m_connector\u001B[49m\u001B[38;5;241;43m.\u001B[39;49m\u001B[43mpull\u001B[49m\u001B[43m(\u001B[49m\u001B[43mresult\u001B[49m\u001B[43m,\u001B[49m\u001B[43m \u001B[49m\u001B[38;5;241;43m-\u001B[39;49m\u001B[38;5;241;43m1\u001B[39;49m\u001B[43m)\u001B[49m\n\u001B[0;32m    993\u001B[0m     \u001B[38;5;28;01mreturn\u001B[39;00m Cursor(result, hydrant)\n\u001B[0;32m    994\u001B[0m \u001B[38;5;28;01mfinally\u001B[39;00m:\n",
      "File \u001B[1;32mC:\\Python310\\lib\\site-packages\\py2neo\\client\\__init__.py:1434\u001B[0m, in \u001B[0;36mConnector.pull\u001B[1;34m(self, result, n)\u001B[0m\n\u001B[0;32m   1432\u001B[0m cx \u001B[38;5;241m=\u001B[39m \u001B[38;5;28mself\u001B[39m\u001B[38;5;241m.\u001B[39m_reacquire(result\u001B[38;5;241m.\u001B[39mtransaction)\n\u001B[0;32m   1433\u001B[0m \u001B[38;5;28;01mtry\u001B[39;00m:\n\u001B[1;32m-> 1434\u001B[0m     \u001B[43mcx\u001B[49m\u001B[38;5;241;43m.\u001B[39;49m\u001B[43mpull\u001B[49m\u001B[43m(\u001B[49m\u001B[43mresult\u001B[49m\u001B[43m,\u001B[49m\u001B[43m \u001B[49m\u001B[43mn\u001B[49m\u001B[38;5;241;43m=\u001B[39;49m\u001B[43mn\u001B[49m\u001B[43m)\u001B[49m\n\u001B[0;32m   1435\u001B[0m \u001B[38;5;28;01mexcept\u001B[39;00m (ConnectionUnavailable, ConnectionBroken):\n\u001B[0;32m   1436\u001B[0m     \u001B[38;5;28mself\u001B[39m\u001B[38;5;241m.\u001B[39mprune(cx\u001B[38;5;241m.\u001B[39mprofile)\n",
      "File \u001B[1;32mC:\\Python310\\lib\\site-packages\\py2neo\\client\\bolt.py:1001\u001B[0m, in \u001B[0;36mBolt4x0.pull\u001B[1;34m(self, result, n, capacity)\u001B[0m\n\u001B[0;32m    998\u001B[0m     raise_from(ConnectionBroken(\u001B[38;5;124m\"\u001B[39m\u001B[38;5;124mTransaction broken by disconnection \u001B[39m\u001B[38;5;124m\"\u001B[39m\n\u001B[0;32m    999\u001B[0m                                 \u001B[38;5;124m\"\u001B[39m\u001B[38;5;124mduring pull\u001B[39m\u001B[38;5;124m\"\u001B[39m), error)\n\u001B[0;32m   1000\u001B[0m \u001B[38;5;28;01melse\u001B[39;00m:\n\u001B[1;32m-> 1001\u001B[0m     \u001B[38;5;28;43mself\u001B[39;49m\u001B[38;5;241;43m.\u001B[39;49m\u001B[43m_audit\u001B[49m\u001B[43m(\u001B[49m\u001B[38;5;28;43mself\u001B[39;49m\u001B[38;5;241;43m.\u001B[39;49m\u001B[43m_transaction\u001B[49m\u001B[43m)\u001B[49m\n\u001B[0;32m   1002\u001B[0m     \u001B[38;5;28;01mreturn\u001B[39;00m response\n",
      "File \u001B[1;32mC:\\Python310\\lib\\site-packages\\py2neo\\client\\bolt.py:810\u001B[0m, in \u001B[0;36mBolt1._audit\u001B[1;34m(self, task)\u001B[0m\n\u001B[0;32m    808\u001B[0m     \u001B[38;5;28;01mreturn\u001B[39;00m\n\u001B[0;32m    809\u001B[0m \u001B[38;5;28;01mtry\u001B[39;00m:\n\u001B[1;32m--> 810\u001B[0m     \u001B[43mtask\u001B[49m\u001B[38;5;241;43m.\u001B[39;49m\u001B[43maudit\u001B[49m\u001B[43m(\u001B[49m\u001B[43m)\u001B[49m\n\u001B[0;32m    811\u001B[0m \u001B[38;5;28;01mexcept\u001B[39;00m Neo4jError:\n\u001B[0;32m    812\u001B[0m     \u001B[38;5;28mself\u001B[39m\u001B[38;5;241m.\u001B[39mreset(force\u001B[38;5;241m=\u001B[39m\u001B[38;5;28;01mTrue\u001B[39;00m)\n",
      "File \u001B[1;32mC:\\Python310\\lib\\site-packages\\py2neo\\client\\bolt.py:1140\u001B[0m, in \u001B[0;36mItemizedTask.audit\u001B[1;34m(self)\u001B[0m\n\u001B[0;32m   1138\u001B[0m \u001B[38;5;28;01mdef\u001B[39;00m \u001B[38;5;21maudit\u001B[39m(\u001B[38;5;28mself\u001B[39m):\n\u001B[0;32m   1139\u001B[0m     \u001B[38;5;28;01mfor\u001B[39;00m item \u001B[38;5;129;01min\u001B[39;00m \u001B[38;5;28mself\u001B[39m\u001B[38;5;241m.\u001B[39m_items:\n\u001B[1;32m-> 1140\u001B[0m         \u001B[43mitem\u001B[49m\u001B[38;5;241;43m.\u001B[39;49m\u001B[43maudit\u001B[49m\u001B[43m(\u001B[49m\u001B[43m)\u001B[49m\n",
      "File \u001B[1;32mC:\\Python310\\lib\\site-packages\\py2neo\\client\\bolt.py:1140\u001B[0m, in \u001B[0;36mItemizedTask.audit\u001B[1;34m(self)\u001B[0m\n\u001B[0;32m   1138\u001B[0m \u001B[38;5;28;01mdef\u001B[39;00m \u001B[38;5;21maudit\u001B[39m(\u001B[38;5;28mself\u001B[39m):\n\u001B[0;32m   1139\u001B[0m     \u001B[38;5;28;01mfor\u001B[39;00m item \u001B[38;5;129;01min\u001B[39;00m \u001B[38;5;28mself\u001B[39m\u001B[38;5;241m.\u001B[39m_items:\n\u001B[1;32m-> 1140\u001B[0m         \u001B[43mitem\u001B[49m\u001B[38;5;241;43m.\u001B[39;49m\u001B[43maudit\u001B[49m\u001B[43m(\u001B[49m\u001B[43m)\u001B[49m\n",
      "File \u001B[1;32mC:\\Python310\\lib\\site-packages\\py2neo\\client\\bolt.py:1303\u001B[0m, in \u001B[0;36mBoltResponse.audit\u001B[1;34m(self)\u001B[0m\n\u001B[0;32m   1301\u001B[0m \u001B[38;5;28;01mif\u001B[39;00m \u001B[38;5;28mself\u001B[39m\u001B[38;5;241m.\u001B[39m_failure:\n\u001B[0;32m   1302\u001B[0m     \u001B[38;5;28mself\u001B[39m\u001B[38;5;241m.\u001B[39mset_ignored()\n\u001B[1;32m-> 1303\u001B[0m     \u001B[38;5;28;01mraise\u001B[39;00m \u001B[38;5;28mself\u001B[39m\u001B[38;5;241m.\u001B[39m_failure\n",
      "\u001B[1;31mTransientError\u001B[0m: [General.MemoryPoolOutOfMemoryError] The allocation of an extra 24.0 MiB would use more than the limit 716.8 MiB. Currently using 702.0 MiB. dbms.memory.transaction.total.max threshold reached"
     ]
    }
   ],
   "source": [],
   "metadata": {
    "collapsed": false,
    "ExecuteTime": {
     "end_time": "2023-05-16T20:46:02.051646100Z",
     "start_time": "2023-05-16T20:45:46.491079800Z"
    }
   }
  },
  {
   "cell_type": "markdown",
   "source": [
    "# Analysis"
   ],
   "metadata": {
    "collapsed": false
   }
  },
  {
   "cell_type": "code",
   "execution_count": null,
   "outputs": [],
   "source": [
    "query = \"\"\"\n",
    "MATCH (w:Word {value: \"how\"})-[e:NEXT]->(w2:Word)\n",
    "RETURN w2.value as next, e.weight as frequency\n",
    "ORDER BY frequency desc\n",
    "LIMIT 3\n",
    "\"\"\"\n",
    "\n",
    "res = graph.run(query).to_data_frame()\n",
    "res"
   ],
   "metadata": {
    "collapsed": false
   }
  },
  {
   "cell_type": "code",
   "execution_count": null,
   "outputs": [],
   "source": [
    "query = \"\"\"\n",
    "MATCH (w:Word)-[e:NEXT]->(w2:Word)\n",
    "RETURN apoc.text.clean(w2.value) as next, e.weight as frequency\n",
    "ORDER BY frequency desc\n",
    "LIMIT 100\n",
    "\"\"\"\n",
    "res = graph.run(query).to_data_frame()\n",
    "res"
   ],
   "metadata": {
    "collapsed": false
   }
  },
  {
   "cell_type": "code",
   "execution_count": null,
   "outputs": [],
   "source": [],
   "metadata": {
    "collapsed": false
   }
  }
 ],
 "metadata": {
  "kernelspec": {
   "display_name": "Python 3",
   "language": "python",
   "name": "python3"
  },
  "language_info": {
   "codemirror_mode": {
    "name": "ipython",
    "version": 2
   },
   "file_extension": ".py",
   "mimetype": "text/x-python",
   "name": "python",
   "nbconvert_exporter": "python",
   "pygments_lexer": "ipython2",
   "version": "2.7.6"
  }
 },
 "nbformat": 4,
 "nbformat_minor": 0
}
