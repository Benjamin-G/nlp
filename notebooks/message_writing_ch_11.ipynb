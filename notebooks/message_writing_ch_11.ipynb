{
 "cells": [
  {
   "cell_type": "markdown",
   "source": [
    "Suppose that you would like to implement a tool that supports message writing, suggesting the next word while you are typing. Moreover, suppose that you would like the tool to learn from you or from a specific set of documents. Such a tool could be useful not only for providing message-writing assistance, but also for supporting spell checking, extracting common phrases, summarizing, and so on."
   ],
   "metadata": {
    "collapsed": false
   }
  },
  {
   "cell_type": "markdown",
   "source": [
    "# Load Data"
   ],
   "metadata": {
    "collapsed": false
   }
  },
  {
   "cell_type": "code",
   "execution_count": null,
   "outputs": [],
   "source": [
    "import os\n",
    "\n",
    "from py2neo import Graph\n",
    "\n",
    "# Connect to database\n",
    "url = \"bolt://localhost:7687\"\n",
    "username = os.getenv(\"NEO4J_USER\")\n",
    "password = os.getenv(\"NEO4J_PASSWORD\")\n",
    "database = \"masc\"\n",
    "\n",
    "graph = Graph(url, auth=(username, password), name=database)"
   ],
   "metadata": {
    "collapsed": false
   }
  },
  {
   "cell_type": "code",
   "execution_count": null,
   "outputs": [],
   "source": [
    "\n",
    "add_constraint = \"CREATE CONSTRAINT FOR (w:Word) REQUIRE w.value IS UNIQUE;\"\n",
    "graph.run(add_constraint)"
   ],
   "metadata": {
    "collapsed": false
   }
  },
  {
   "cell_type": "code",
   "execution_count": null,
   "outputs": [],
   "source": [
    "# doesn't work here use desktop\n",
    "load_data = \"\"\"\n",
    "    :auto LOAD CSV FROM \"file:///masc_sentences.tsv\" AS line FIELDTERMINATOR '\\t'\n",
    "    CALL {\n",
    "        WITH line\n",
    "        WITH line[6] as sentence\n",
    "        WITH split(sentence, \" \") as words\n",
    "        FOREACH ( idx IN range(0,size(words)-2) |\n",
    "        MERGE (w1:Word {value:apoc.text.clean(words[idx])})\n",
    "        MERGE (w2:Word {value:apoc.text.clean(words[idx+1])})\n",
    "        MERGE (w1)-[r:NEXT]->(w2)\n",
    "          ON CREATE SET r.weight = 1\n",
    "          ON MATCH SET r.weight = r.weight + 1)\n",
    "    } IN TRANSACTIONS OF 500 ROWS\n",
    "    \"\"\"\n",
    "\n",
    "delete = \"\"\"\n",
    "CALL apoc.periodic.iterate(\n",
    "\"MATCH (p:Word) RETURN p\",\n",
    "\"DETACH DELETE p\", {batchSize:1000, parallel:true})\n",
    "\"\"\"\n",
    "# Had to add masc_sentences.tsv to the DB server\n",
    "# without cleaning\n",
    "# Added 170037 labels, created 170037 nodes, set 2553105 properties, created 929137 relationships, completed after 261495 ms.\n",
    "# with cleaning\n",
    "# Added 97209 labels, created 97209 nodes, set 2480277 properties, created 806397 relationships, completed after 229257 ms.\n",
    "graph.run(load_data)"
   ],
   "metadata": {
    "collapsed": false
   }
  },
  {
   "cell_type": "markdown",
   "source": [
    "# Analysis"
   ],
   "metadata": {
    "collapsed": false
   }
  },
  {
   "cell_type": "code",
   "execution_count": null,
   "outputs": [],
   "source": [
    "query = \"\"\"\n",
    "MATCH (w:Word {value: \"how\"})-[e:NEXT]->(w2:Word)\n",
    "RETURN w2.value as next, e.weight as frequency\n",
    "ORDER BY frequency desc\n",
    "LIMIT 3\n",
    "\"\"\"\n",
    "\n",
    "res = graph.run(query).to_data_frame()\n",
    "res"
   ],
   "metadata": {
    "collapsed": false
   }
  },
  {
   "cell_type": "code",
   "execution_count": null,
   "outputs": [],
   "source": [
    "query = \"\"\"\n",
    "MATCH (w:Word)-[e:NEXT]->(w2:Word)\n",
    "RETURN apoc.text.clean(w2.value) as next, e.weight as frequency\n",
    "ORDER BY frequency desc\n",
    "LIMIT 100\n",
    "\"\"\"\n",
    "res = graph.run(query).to_data_frame()\n",
    "res"
   ],
   "metadata": {
    "collapsed": false
   }
  },
  {
   "cell_type": "code",
   "execution_count": null,
   "outputs": [],
   "source": [],
   "metadata": {
    "collapsed": false
   }
  }
 ],
 "metadata": {
  "kernelspec": {
   "display_name": "Python 3",
   "language": "python",
   "name": "python3"
  },
  "language_info": {
   "codemirror_mode": {
    "name": "ipython",
    "version": 2
   },
   "file_extension": ".py",
   "mimetype": "text/x-python",
   "name": "python",
   "nbconvert_exporter": "python",
   "pygments_lexer": "ipython2",
   "version": "2.7.6"
  }
 },
 "nbformat": 4,
 "nbformat_minor": 0
}
