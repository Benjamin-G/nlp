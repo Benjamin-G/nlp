{
 "cells": [
  {
   "cell_type": "markdown",
   "source": [
    "## Trying neo4j instead of py2neo"
   ],
   "metadata": {
    "collapsed": false
   }
  },
  {
   "cell_type": "code",
   "execution_count": null,
   "outputs": [],
   "source": [
    "import os\n",
    "\n",
    "from neo4j import GraphDatabase\n",
    "\n",
    "uri = \"bolt://localhost:7687\"\n",
    "user = os.getenv(\"NEO4J_USER\")\n",
    "password = os.getenv(\"NEO4J_PASSWORD_\")\n",
    "\n",
    "driver = GraphDatabase.driver(uri, auth=(user, password))"
   ],
   "metadata": {
    "collapsed": false
   }
  },
  {
   "cell_type": "code",
   "execution_count": null,
   "outputs": [],
   "source": [
    "import pandas as pd\n",
    "\n",
    "q = \"match (n:NamedEntity) return n.type, n.value order by n.type\"\n",
    "\n",
    "records, summary, keys = driver.execute_query(\n",
    "    q,\n",
    "    routing_=\"r\",\n",
    "    database_=\"spacyner\",\n",
    ")\n",
    "\n",
    "# Summary information\n",
    "print(\"The query `{query}` returned {records_count} records in {time} ms.\".format(\n",
    "    query=summary.query, records_count=len(records),\n",
    "    time=summary.result_available_after\n",
    "))\n",
    "\n",
    "# Loop through results and do something with them\n",
    "for record in records:\n",
    "    print(record.data())  # obtain record as dict\n",
    "\n",
    "df = pd.DataFrame(records, columns=[\"type\", \"value\"])\n",
    "df"
   ],
   "metadata": {
    "collapsed": false
   }
  },
  {
   "cell_type": "markdown",
   "source": [
    "## Clustering keywords and topic identification"
   ],
   "metadata": {
    "collapsed": false
   }
  },
  {
   "cell_type": "code",
   "execution_count": null,
   "outputs": [],
   "source": [
    "# textrank-spacy\n",
    "# Creating a virtual graph in the knowledge graph\n",
    "\"\"\"\n",
    "CALL gds.graph.project(\n",
    "    'keywordsGraph',\n",
    "    'Keyword',\n",
    "    {\n",
    "        CO_OCCUR: {\n",
    "            orientation: 'NATURAL'\n",
    "        }\n",
    "    },\n",
    "    {\n",
    "        relationshipProperties: 'normalizedWeight'\n",
    "    }\n",
    ")\n",
    "\"\"\"\n",
    "# Revealing communities by using Louvain\n",
    "\"\"\"\n",
    "CALL gds.louvain.write('keywordsGraph', {\n",
    "    relationshipWeightProperty: 'normalizedWeight',\n",
    "    writeProperty: 'community'\n",
    "}) YIELD nodePropertiesWritten,  communityCount, modularity\n",
    "RETURN nodePropertiesWritten,  communityCount, modularity\n",
    "\"\"\"\n",
    "\n",
    "# Getting the communities and the top 25 keywords for each community\n",
    "# The community assigned to each keyword is saved as the community property in the related node; it contains the identifier of the community.\n",
    "\"\"\"\n",
    "MATCH (k:Keyword)-[:DESCRIBES]->(text:AnnotatedText)\n",
    "WITH k, count(text) as weight\n",
    "WHERE weight > 5\n",
    "with k.community as community, k.id as keyword, weight\n",
    "order by community, weight desc\n",
    "WITH community, collect(keyword) as communityMembers\n",
    "order by size(communityMembers) desc\n",
    "RETURN community as communityId, communityMembers[0..25] as topMembers, size(communityMembers) as size\n",
    "\"\"\""
   ],
   "metadata": {
    "collapsed": false
   }
  }
 ],
 "metadata": {
  "kernelspec": {
   "display_name": "Python 3",
   "language": "python",
   "name": "python3"
  },
  "language_info": {
   "codemirror_mode": {
    "name": "ipython",
    "version": 2
   },
   "file_extension": ".py",
   "mimetype": "text/x-python",
   "name": "python",
   "nbconvert_exporter": "python",
   "pygments_lexer": "ipython2",
   "version": "2.7.6"
  }
 },
 "nbformat": 4,
 "nbformat_minor": 0
}
