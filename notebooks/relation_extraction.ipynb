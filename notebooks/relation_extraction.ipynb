{
 "cells": [
  {
   "cell_type": "code",
   "execution_count": null,
   "metadata": {
    "collapsed": true
   },
   "outputs": [],
   "source": [
    "import spacy\n",
    "\n",
    "nlp = spacy.load(\"en_core_web_sm\")\n",
    "doc = nlp(\"Marie Curie received the Nobel Prize in Physics\")\n",
    "options = {\"collapse_phrases\": True}\n",
    "\n",
    "# we can display\n",
    "spacy.displacy.render(doc, style=\"dep\", options=options, jupyter=True)\n",
    "\"\"\"\n",
    "(verb: receive, subject: p:Person, object: a:Prize) → (relationship: RECEIVE_PRIZE, from: p, to:a)\n",
    "\n",
    "Here, “receive” (considered in the lemmatized version) is an English verb, whereas RECEIVE_PRIZE is a relationship type\n",
    "(a semantic relation).\n",
    "\"\"\""
   ]
  },
  {
   "cell_type": "code",
   "execution_count": null,
   "outputs": [],
   "source": [
    "import os\n",
    "\n",
    "from py2neo import Graph\n",
    "\n",
    "# Connect to database\n",
    "url = \"bolt://localhost:7687\"\n",
    "username = os.getenv(\"NEO4J_USER\")\n",
    "password = os.getenv(\"NEO4J_PASSWORD_\")\n",
    "database = \"spacy-ner\"\n",
    "\n",
    "graph = Graph(url, auth=(username, password), name=database)"
   ],
   "metadata": {
    "collapsed": false
   }
  },
  {
   "cell_type": "code",
   "execution_count": null,
   "outputs": [],
   "source": [
    "query = \"\"\"\n",
    "MATCH (verb:TagOccurrence {pos: \"VBD\", lemma:\"receive\"})\n",
    "WITH verb\n",
    "MATCH p=(verb)-[:IS_DEPENDENT {type:\"nsubj\"}]->(subject)-[:PARTICIPATES_IN]-> (person:NamedEntity {type: \"PERSON\"})\n",
    "MATCH q=(verb)-[:IS_DEPENDENT {type:\"dobj\"}]->(object)-[:PARTICIPATES_IN]-> (woa:NamedEntity {type: \"WORK_OF_ART\"})\n",
    "RETURN verb, person, woa, p, q\n",
    "\"\"\"\n",
    "\n",
    "sentence = \"Marie Curie received the Nobel Prize in Physics in 1903.\"\n",
    "\"\"\"\n",
    " But “receive” conveys many relations, and we don’t want instances of “receive”\n",
    " involving other types of arguments to be translated into the RECEIVE_PRIZE relationship\n",
    "\n",
    " “The Committee awarded the prize to Marie Curie.”\n",
    " “The prize was awarded to Marie Curie.”\n",
    "\n",
    " (relationship: \"win\", subject: p:Person, object: a:Prize) ®\n",
    "  (relationship: RECEIVE_PRIZE, from: p, to:a)\n",
    " (relationship: \"award\", indirect-object: p:Person, object: a:Prize) ®\n",
    "  (relationship: RECEIVE_PRIZE, from: p, to:a)\n",
    "\"\"\"\n",
    "res = graph.run(query).to_data_frame()\n",
    "res"
   ],
   "metadata": {
    "collapsed": false
   }
  },
  {
   "cell_type": "code",
   "execution_count": null,
   "outputs": [],
   "source": [
    "query = \"\"\"\n",
    "MATCH (nodelPrize:Entity {type:\"WORK_OF_ART\"})<-[:TO]-(rel:Relationship {type: \"RECEIVE_PRIZE\"})-[:FROM]->(winner:Entity {type: \"PERSON\"})\n",
    "WHERE nodelPrize.id CONTAINS \"the Nobel Prize in Physics\"\n",
    "RETURN winner\n",
    "\"\"\"\n",
    "res = graph.run(query).to_data_frame()\n",
    "res"
   ],
   "metadata": {
    "collapsed": false
   }
  },
  {
   "cell_type": "markdown",
   "source": [
    "## ConceptNet"
   ],
   "metadata": {
    "collapsed": false
   }
  },
  {
   "cell_type": "code",
   "execution_count": null,
   "outputs": [],
   "source": [
    "import requests\n",
    "\n",
    "obj = requests.get(\"http://api.conceptnet.io/c/en/marie_curie\").json()\n",
    "print(obj['edges'][0]['rel']['label'] + \": \" + obj['edges'][0]['end']['label'])"
   ],
   "metadata": {
    "collapsed": false
   }
  },
  {
   "cell_type": "code",
   "execution_count": null,
   "outputs": [],
   "source": [
    "from pprint import pprint\n",
    "\n",
    "obj = requests.get(\"http://api.conceptnet.io/c/en/blueprint\").json()\n",
    "pprint(obj)"
   ],
   "metadata": {
    "collapsed": false
   }
  },
  {
   "cell_type": "code",
   "execution_count": null,
   "outputs": [],
   "source": [],
   "metadata": {
    "collapsed": false
   }
  }
 ],
 "metadata": {
  "kernelspec": {
   "display_name": "Python 3",
   "language": "python",
   "name": "python3"
  },
  "language_info": {
   "codemirror_mode": {
    "name": "ipython",
    "version": 2
   },
   "file_extension": ".py",
   "mimetype": "text/x-python",
   "name": "python",
   "nbconvert_exporter": "python",
   "pygments_lexer": "ipython2",
   "version": "2.7.6"
  }
 },
 "nbformat": 4,
 "nbformat_minor": 0
}
