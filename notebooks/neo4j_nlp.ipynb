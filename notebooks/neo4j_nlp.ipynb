{
 "cells": [
  {
   "cell_type": "code",
   "execution_count": null,
   "outputs": [],
   "source": [
    "# Data science\n",
    "# https://neo4j.com/docs/graph-data-science/current/algorithms/page-rank/\n",
    "\"\"\"\n",
    "CALL gds.graph.project(\n",
    "  'myGraph',\n",
    "  'Entity',\n",
    "  'ENTITY',\n",
    "  {\n",
    "    relationshipProperties: 'score'\n",
    "  }\n",
    ")\n",
    "\n",
    "CALL gds.graph.project(\n",
    "  'myGraph',\n",
    "  '*',\n",
    "  \"*\"\n",
    ")\n",
    "\"\"\"\n",
    "\"\"\"\n",
    "CALL gds.pageRank.write.estimate('myGraph', {\n",
    "  writeProperty: 'pageRank',\n",
    "  maxIterations: 20,\n",
    "  dampingFactor: 0.85\n",
    "})\n",
    "YIELD nodeCount, relationshipCount, bytesMin, bytesMax, requiredMemory\n",
    "\n",
    "CALL gds.pageRank.stream('myGraph')\n",
    "YIELD nodeId, score\n",
    "RETURN gds.util.asNode(nodeId) AS name, score\n",
    "ORDER BY score DESC, name ASC\n",
    "\n",
    "# Clean up\n",
    "CALL gds.graph.drop('myGraph') YIELD graphName;\n",
    "\"\"\""
   ],
   "metadata": {
    "collapsed": false
   }
  },
  {
   "cell_type": "code",
   "execution_count": null,
   "outputs": [],
   "source": [],
   "metadata": {
    "collapsed": false
   }
  }
 ],
 "metadata": {
  "kernelspec": {
   "display_name": "Python 3",
   "language": "python",
   "name": "python3"
  },
  "language_info": {
   "codemirror_mode": {
    "name": "ipython",
    "version": 2
   },
   "file_extension": ".py",
   "mimetype": "text/x-python",
   "name": "python",
   "nbconvert_exporter": "python",
   "pygments_lexer": "ipython2",
   "version": "2.7.6"
  }
 },
 "nbformat": 4,
 "nbformat_minor": 0
}
