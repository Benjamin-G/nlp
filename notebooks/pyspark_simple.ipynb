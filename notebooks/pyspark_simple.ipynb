{
 "cells": [
  {
   "cell_type": "code",
   "execution_count": null,
   "metadata": {
    "collapsed": true
   },
   "outputs": [],
   "source": [
    "import os\n",
    "import sys\n",
    "\n",
    "import pyspark\n",
    "from pyspark.sql import SparkSession\n",
    "\n",
    "os.environ[\"PYSPARK_PYTHON\"] = sys.executable\n",
    "os.environ[\"PYSPARK_DRIVER_PYTHON\"] = sys.executable\n",
    "\n",
    "# Create a SparkConf object\n",
    "config = pyspark.SparkConf().setAll(\n",
    "    [(\"spark.executor.memory\", \"8g\"),\n",
    "     (\"spark.executor.cores\", \"3\"),\n",
    "     (\"spark.cores.max\", \"3\"),\n",
    "     (\"spark.driver.memory\", \"8g\")]\n",
    ")\n",
    "\n",
    "# Create a SparkSession object\n",
    "spark = SparkSession.builder.config(conf=config).getOrCreate()\n",
    "\n",
    "# Retrieve the SparkConf object from the SparkContext\n",
    "conf = spark.sparkContext.getConf()\n",
    "\n",
    "# Print the configuration settings\n",
    "print(\"spark.app.name = \", conf.get(\"spark.app.name\"))\n",
    "print(\"spark.master = \", conf.get(\"spark.master\"))\n",
    "print(\"spark.executor.memory = \", conf.get(\"spark.executor.memory\"))"
   ]
  },
  {
   "cell_type": "code",
   "execution_count": null,
   "outputs": [],
   "source": [
    "df = spark.range(0, 20)\n",
    "print(df.rdd.getNumPartitions())\n",
    "df.show()\n",
    "df.printSchema()"
   ],
   "metadata": {
    "collapsed": false
   }
  },
  {
   "cell_type": "code",
   "execution_count": null,
   "outputs": [],
   "source": [],
   "metadata": {
    "collapsed": false
   }
  },
  {
   "cell_type": "code",
   "execution_count": null,
   "outputs": [],
   "source": [],
   "metadata": {
    "collapsed": false
   }
  }
 ],
 "metadata": {
  "kernelspec": {
   "display_name": "Python 3",
   "language": "python",
   "name": "python3"
  },
  "language_info": {
   "codemirror_mode": {
    "name": "ipython",
    "version": 2
   },
   "file_extension": ".py",
   "mimetype": "text/x-python",
   "name": "python",
   "nbconvert_exporter": "python",
   "pygments_lexer": "ipython2",
   "version": "2.7.6"
  }
 },
 "nbformat": 4,
 "nbformat_minor": 0
}
