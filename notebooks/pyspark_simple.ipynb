{
 "cells": [
  {
   "cell_type": "code",
   "execution_count": null,
   "metadata": {},
   "outputs": [],
   "source": [
    "import pyspark\n",
    "from pyspark.sql import SparkSession\n",
    "\n",
    "# os.environ[\"PYSPARK_PYTHON\"] = sys.executable\n",
    "# os.environ[\"PYSPARK_DRIVER_PYTHON\"] = sys.executable\n",
    "# SPARK_MASTER_URL = \"spark://spark:7077\"\n",
    "# spark://spark:7077\n",
    "# Create a SparkConf object Local\n",
    "config = pyspark.SparkConf().setAll(\n",
    "    [(\"spark.executor.memory\", \"8g\"),\n",
    "     (\"spark.executor.cores\", \"3\"),\n",
    "     (\"spark.cores.max\", \"3\"),\n",
    "     (\"spark.driver.memory\", \"8g\")]\n",
    ")\n",
    "\n",
    "# config = pyspark.SparkConf().setAppName(\"Test\").setMaster(SPARK_MASTER_URL)\n",
    "\n",
    "# Create a SparkSession object\n",
    "spark = SparkSession.builder.config(conf=config).getOrCreate()\n",
    "\n",
    "# Retrieve the SparkConf object from the SparkContext\n",
    "conf = spark.sparkContext.getConf()\n",
    "\n",
    "# Print the configuration settings\n",
    "print(\"spark.app.name = \", conf.get(\"spark.app.name\"))\n",
    "print(\"spark.master = \", conf.get(\"spark.master\"))\n",
    "print(\"spark.executor.memory = \", conf.get(\"spark.executor.memory\"))\n",
    "# print(spark.sparkContext.getConf().getAll())"
   ]
  },
  {
   "cell_type": "code",
   "execution_count": null,
   "metadata": {
    "collapsed": false,
    "jupyter": {
     "outputs_hidden": false
    }
   },
   "outputs": [],
   "source": [
    "import pandas as pd\n",
    "from datetime import datetime, date\n",
    "\n",
    "pandas_df = pd.DataFrame({\n",
    "    'a': [1, 2, 3],\n",
    "    'b': [2., 3., 4.],\n",
    "    'c': ['string1', 'string2', 'string3'],\n",
    "    'd': [date(2000, 1, 1), date(2000, 2, 1), date(2000, 3, 1)],\n",
    "    'e': [datetime(2000, 1, 1, 12, 0), datetime(2000, 1, 2, 12, 0), datetime(2000, 1, 3, 12, 0)]\n",
    "})\n",
    "df = spark.createDataFrame(pandas_df)\n",
    "df.show()"
   ]
  },
  {
   "cell_type": "code",
   "execution_count": null,
   "metadata": {
    "collapsed": false,
    "jupyter": {
     "outputs_hidden": false
    }
   },
   "outputs": [],
   "source": [
    "df.show()\n",
    "df.printSchema()"
   ]
  },
  {
   "cell_type": "code",
   "execution_count": null,
   "metadata": {
    "collapsed": false,
    "jupyter": {
     "outputs_hidden": false
    }
   },
   "outputs": [],
   "source": [
    "df = spark.range(0, 20)\n",
    "print(df.rdd.getNumPartitions())\n",
    "df.show()\n",
    "df.printSchema()"
   ]
  },
  {
   "cell_type": "code",
   "execution_count": null,
   "metadata": {
    "collapsed": false,
    "jupyter": {
     "outputs_hidden": false
    }
   },
   "outputs": [],
   "source": [
    "import sys\n",
    "\n",
    "sys.executable"
   ]
  },
  {
   "cell_type": "code",
   "execution_count": null,
   "metadata": {
    "collapsed": false,
    "jupyter": {
     "outputs_hidden": false
    }
   },
   "outputs": [],
   "source": []
  }
 ],
 "metadata": {
  "kernelspec": {
   "display_name": "Python 3 (ipykernel)",
   "language": "python",
   "name": "python3"
  },
  "language_info": {
   "codemirror_mode": {
    "name": "ipython",
    "version": 3
   },
   "file_extension": ".py",
   "mimetype": "text/x-python",
   "name": "python",
   "nbconvert_exporter": "python",
   "pygments_lexer": "ipython3",
   "version": "3.10.11"
  }
 },
 "nbformat": 4,
 "nbformat_minor": 4
}
