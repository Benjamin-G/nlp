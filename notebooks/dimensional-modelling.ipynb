{
 "cells": [
  {
   "cell_type": "markdown",
   "source": [
    "## Dimensional Modeling"
   ],
   "metadata": {
    "collapsed": false
   }
  },
  {
   "cell_type": "code",
   "execution_count": 1,
   "outputs": [],
   "source": [
    "import os\n",
    "\n",
    "from py2neo import Graph\n",
    "\n",
    "# Connect to database\n",
    "url = \"bolt://localhost:7687\"\n",
    "username = os.getenv(\"NEO4J_USER\")\n",
    "password = os.getenv(\"NEO4J_PASSWORD\")\n",
    "database = \"dimensional-modelling\"\n",
    "\n",
    "graph = Graph(url, auth=(username, password), name=database)"
   ],
   "metadata": {
    "collapsed": false,
    "ExecuteTime": {
     "end_time": "2023-05-20T18:46:47.431614500Z",
     "start_time": "2023-05-20T18:46:47.093469800Z"
    }
   }
  },
  {
   "cell_type": "code",
   "execution_count": 5,
   "outputs": [
    {
     "name": "stdout",
     "output_type": "stream",
     "text": [
      "(No data)\n",
      "(No data)\n",
      "(No data)\n",
      "(No data)\n"
     ]
    }
   ],
   "source": [
    "con_1 = \"CREATE INDEX node_index_id FOR (n:Movie) on (n.id)\"\n",
    "con_2 = \"CREATE INDEX node_index_title FOR (n:Movie) on (n.title)\"\n",
    "load_data_1 = \"\"\"\n",
    "LOAD CSV WITH HEADERS FROM 'file:///MovieRevenue.csv' AS line\n",
    "CREATE (m:Movie {id:line.Rank, studio:line.Studio,\n",
    "     title:line.Title, year:line.Year})\n",
    "CREATE (r:RevenueFact {rank:line.Rank,\n",
    "     worldwide:toFloat(line.Worldwide),\n",
    "     domestic:toFloat(line.Domestic),\n",
    "     overseas:toFloat(line.Overseas)})\n",
    "CREATE (m)-[:HAS_REVENUE_FACT]->(r);\n",
    "\"\"\"\n",
    "load_data_2 = \"\"\"\n",
    "LOAD CSV WITH HEADERS FROM 'file:///MovieRatingGenerated.csv' AS line\n",
    "MATCH (m:Movie {id:line.Rank})\n",
    "CREATE (r:RatingFact {rating:toFloat(line.Rating)})\n",
    "CREATE (m)-[:HAS_RATING_FACT]->(r);\n",
    "\"\"\"\n",
    "\n",
    "for q in [con_1, con_2, load_data_1, load_data_2]:\n",
    "    res = graph.run(q)\n",
    "    print(res)"
   ],
   "metadata": {
    "collapsed": false,
    "ExecuteTime": {
     "end_time": "2023-05-20T18:52:48.023619100Z",
     "start_time": "2023-05-20T18:52:47.354295100Z"
    }
   }
  },
  {
   "cell_type": "code",
   "execution_count": null,
   "outputs": [],
   "source": [],
   "metadata": {
    "collapsed": false
   }
  }
 ],
 "metadata": {
  "kernelspec": {
   "display_name": "Python 3",
   "language": "python",
   "name": "python3"
  },
  "language_info": {
   "codemirror_mode": {
    "name": "ipython",
    "version": 2
   },
   "file_extension": ".py",
   "mimetype": "text/x-python",
   "name": "python",
   "nbconvert_exporter": "python",
   "pygments_lexer": "ipython2",
   "version": "2.7.6"
  }
 },
 "nbformat": 4,
 "nbformat_minor": 0
}
