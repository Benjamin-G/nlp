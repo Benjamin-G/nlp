{
 "cells": [
  {
   "cell_type": "markdown",
   "source": [
    "## Dimensional Modeling"
   ],
   "metadata": {
    "collapsed": false
   }
  },
  {
   "cell_type": "code",
   "execution_count": null,
   "outputs": [],
   "source": [
    "import os\n",
    "\n",
    "from py2neo import Graph\n",
    "\n",
    "# Connect to database\n",
    "url = \"bolt://localhost:7687\"\n",
    "username = os.getenv(\"NEO4J_USER\")\n",
    "password = os.getenv(\"NEO4J_PASSWORD_\")\n",
    "database = \"dimensional-modelling\"\n",
    "\n",
    "graph = Graph(url, auth=(username, password), name=database)"
   ],
   "metadata": {
    "collapsed": false
   }
  },
  {
   "cell_type": "code",
   "execution_count": null,
   "outputs": [],
   "source": [
    "con_1 = \"CREATE INDEX node_index_id FOR (n:Movie) on (n.id)\"\n",
    "con_2 = \"CREATE INDEX node_index_title FOR (n:Movie) on (n.title)\"\n",
    "load_data_1 = \"\"\"\n",
    "LOAD CSV WITH HEADERS FROM 'file:///MovieRevenue.csv' AS line\n",
    "CREATE (m:Movie {id:line.Rank, studio:line.Studio,\n",
    "     title:line.Title, year:line.Year})\n",
    "CREATE (r:RevenueFact {rank:line.Rank,\n",
    "     worldwide:toFloat(line.Worldwide),\n",
    "     domestic:toFloat(line.Domestic),\n",
    "     overseas:toFloat(line.Overseas)})\n",
    "CREATE (m)-[:HAS_REVENUE_FACT]->(r);\n",
    "\"\"\"\n",
    "load_data_2 = \"\"\"\n",
    "LOAD CSV WITH HEADERS FROM 'file:///MovieRatingGenerated.csv' AS line\n",
    "MATCH (m:Movie {id:line.Rank})\n",
    "CREATE (r:RatingFact {rating:toFloat(line.Rating)})\n",
    "CREATE (m)-[:HAS_RATING_FACT]->(r);\n",
    "\"\"\"\n",
    "\n",
    "for q in [con_1, con_2, load_data_1, load_data_2]:\n",
    "    res = graph.run(q)\n",
    "    print(res)"
   ],
   "metadata": {
    "collapsed": false
   }
  },
  {
   "cell_type": "code",
   "execution_count": null,
   "outputs": [],
   "source": [
    "# Movies by worldwide revenue and rating, sorted by worldwide revenue desc\n",
    "query = \"\"\"\n",
    "MATCH (revFact:RevenueFact)<--(m:Movie)-->(rateFact:RatingFact)\n",
    "RETURN m.title AS Title, revFact.worldwide AS Worldwide, rateFact.rating AS Rating ORDER BY Worldwide DESC;\n",
    "\"\"\"\n",
    "# Studios by worldwide revenue, sorted by worldwide revenue desc\n",
    "query_2 = \"\"\"\n",
    "MATCH (revFact:RevenueFact)<--(m:Movie)\n",
    "WITH m.studio AS Studio, sum(revFact.worldwide) AS totalRev\n",
    "RETURN Studio, totalRev as `Total Worldwide Revenue` ORDER BY totalRev DESC;\n",
    "\"\"\""
   ],
   "metadata": {
    "collapsed": false
   }
  },
  {
   "cell_type": "markdown",
   "source": [
    "## Get Schema\n",
    "https://neo4j.com/developer/kb/viewing-schema-data-with-apoc/"
   ],
   "metadata": {
    "collapsed": false
   }
  },
  {
   "cell_type": "code",
   "execution_count": null,
   "outputs": [],
   "source": [
    "get_schema = \"\"\"\n",
    "CALL apoc.meta.schema() YIELD value as schemaMap\n",
    "UNWIND keys(schemaMap) as label\n",
    "WITH label, schemaMap[label] as data\n",
    "WHERE data.type = \"node\"\n",
    "UNWIND keys(data.properties) as property\n",
    "WITH label, property, data.properties[property] as propData\n",
    "RETURN label,\n",
    "property,\n",
    "propData.type as type,\n",
    "propData.indexed as isIndexed,\n",
    "propData.unique as uniqueConstraint,\n",
    "propData.existence as existenceConstraint\n",
    "\"\"\"\n",
    "res = graph.run(get_schema).to_data_frame()\n",
    "res"
   ],
   "metadata": {
    "collapsed": false
   }
  },
  {
   "cell_type": "code",
   "execution_count": null,
   "outputs": [],
   "source": [],
   "metadata": {
    "collapsed": false
   }
  }
 ],
 "metadata": {
  "kernelspec": {
   "display_name": "Python 3",
   "language": "python",
   "name": "python3"
  },
  "language_info": {
   "codemirror_mode": {
    "name": "ipython",
    "version": 2
   },
   "file_extension": ".py",
   "mimetype": "text/x-python",
   "name": "python",
   "nbconvert_exporter": "python",
   "pygments_lexer": "ipython2",
   "version": "2.7.6"
  }
 },
 "nbformat": 4,
 "nbformat_minor": 0
}
